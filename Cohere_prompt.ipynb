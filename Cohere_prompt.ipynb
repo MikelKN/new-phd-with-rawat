{
  "nbformat": 4,
  "nbformat_minor": 0,
  "metadata": {
    "colab": {
      "provenance": [],
      "authorship_tag": "ABX9TyNQ9mQpNFg8AAmZvgFpMR/C",
      "include_colab_link": true
    },
    "kernelspec": {
      "name": "python3",
      "display_name": "Python 3"
    },
    "language_info": {
      "name": "python"
    }
  },
  "cells": [
    {
      "cell_type": "markdown",
      "metadata": {
        "id": "view-in-github",
        "colab_type": "text"
      },
      "source": [
        "<a href=\"https://colab.research.google.com/github/MikelKN/new-phd-with-rawat/blob/main/Cohere_prompt.ipynb\" target=\"_parent\"><img src=\"https://colab.research.google.com/assets/colab-badge.svg\" alt=\"Open In Colab\"/></a>"
      ]
    },
    {
      "cell_type": "code",
      "execution_count": null,
      "metadata": {
        "id": "_-CmEaBiQtHf"
      },
      "outputs": [],
      "source": [
        "# Class for Cohere AI\n",
        "class Cohere_ai:\n",
        "    def prompt_counter(self, event, model_name= 'command'):\n",
        "\n",
        "      prompt = f\"generate a counter-narrative to this hateful comment '{event}'. omit explanations and provide only the counter narrative\"\n",
        "\n",
        "      co_api = cohere.Client('RFXnp5bU4XQc3OAvUYaCZRc9SFYpoEgPXAVWVeAW')\n",
        "\n",
        "      response = co_api.chat(\n",
        "          message=prompt,\n",
        "          model=model_name,\n",
        "          temperature=0.3\n",
        "      )\n",
        "\n",
        "      return response.text\n",
        "\n",
        "# Initialize Cohere AI\n",
        "cohere_ai = Cohere_ai()\n",
        "\n",
        "gpt_prompt = pd.read_csv('/content/drive/MyDrive/PhD with Rawat/milanlp/gpt4o_prompt.csv')\n",
        "\n",
        "gpt_prompt['Cohere_prompt'] = gpt_prompt['HATE_SPEECH'].apply(lambda x: cohere_ai.prompt_counter(x))\n",
        "\n",
        "# Save the updated dataset back to Google Drive\n",
        "output_path = '/content/drive/MyDrive/PhD with Rawat/milanlp/gpt4o_cohere_prompt.csv'\n",
        "gpt_prompt.to_csv(output_path, index=False)\n",
        "\n",
        "print(f\"Updated dataset saved to {output_path}\")"
      ]
    }
  ]
}